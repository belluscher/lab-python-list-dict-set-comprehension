{
 "cells": [
  {
   "cell_type": "markdown",
   "id": "25d7736c-ba17-4aff-b6bb-66eba20fbf4e",
   "metadata": {},
   "source": [
    "# Lab | List, Dict and Set Comprehension"
   ]
  },
  {
   "cell_type": "markdown",
   "id": "7dd3cbde-675a-4b81-92c3-f728846dbe06",
   "metadata": {},
   "source": [
    "## Exercise: Managing Customer Orders Optimized with Comprehension"
   ]
  },
  {
   "cell_type": "markdown",
   "id": "5d500160-2fb7-4777-b5e4-09d45ebaf328",
   "metadata": {},
   "source": [
    "In the previous exercise, you developed a program to manage customer orders and inventory. Now, let's take it a step further and incorporate comprehension into your code.\n",
    "\n",
    "Follow the steps below to complete the exercise:\n",
    "\n",
    "1. Review your code from the previous exercise and identify areas where you can apply comprehension to simplify and streamline your code. \n",
    "\n",
    "    - *Hint: Apply it to initialize inventory, updating the inventory and printing the updated inventory.*\n",
    "    \n",
    "    - For example, in initializing the inventory, we could have:\n",
    "    \n",
    "        ```python\n",
    "        def initialize_inventory(products):\n",
    "            inventory = {product: int(input(f\"Enter the quantity of {product}s available: \")) for product in products}\n",
    "            return inventory\n",
    "\n",
    "        ```\n",
    "<br>\n",
    "    \n",
    "    \n",
    "2. Modify the function get_customer_orders so it prompts the user to enter the number of customer orders and gathers the product names using a loop and user input. Use comprehension.\n",
    "\n",
    "3. Add a new function to calculate the total price of the customer order. For each product in customer_orders, prompt the user to enter the price of that product. Use comprehension to calculate the total price. Note: assume that the user can only have 1 unit of each product.\n",
    "\n",
    "4. Modify the update_inventory function to remove the product from the inventory if its quantity becomes zero after fulfilling the customer orders. Use comprehension to filter out the products with a quantity of zero from the inventory.\n",
    "\n",
    "5. Print the total price of the customer order.\n",
    "\n",
    "Your code should produce output similar to the following:\n",
    "\n",
    "```python\n",
    "Enter the quantity of t-shirts available:  5\n",
    "Enter the quantity of mugs available:  4\n",
    "Enter the quantity of hats available:  3\n",
    "Enter the quantity of books available:  2\n",
    "Enter the quantity of keychains available:  1\n",
    "Enter the number of customer orders:  2\n",
    "Enter the name of a product that a customer wants to order:  hat\n",
    "Enter the name of a product that a customer wants to order:  keychain\n",
    "\n",
    "Order Statistics:\n",
    "Total Products Ordered: 2\n",
    "Percentage of Unique Products Ordered: 40.0\n",
    "\n",
    "Updated Inventory:\n",
    "t-shirt: 5\n",
    "mug: 4\n",
    "hat: 2\n",
    "book: 2\n",
    "Enter the price of keychain:  5\n",
    "Enter the price of hat:  10\n",
    "Total Price: 15.0\n",
    "\n",
    "```\n"
   ]
  },
  {
   "cell_type": "code",
   "execution_count": 1,
   "id": "75cc05f0",
   "metadata": {},
   "outputs": [
    {
     "name": "stdout",
     "output_type": "stream",
     "text": [
      "Enter the quantity of t-shirts available: 9\n",
      "Enter the quantity of mugs available: 9\n",
      "Enter the quantity of hats available: 9\n",
      "Enter the quantity of books available: 9\n",
      "Enter the quantity of keychains available: 9\n"
     ]
    },
    {
     "data": {
      "text/plain": [
       "{'t-shirt': 9, 'mug': 9, 'hat': 9, 'book': 9, 'keychain': 9}"
      ]
     },
     "execution_count": 1,
     "metadata": {},
     "output_type": "execute_result"
    }
   ],
   "source": [
    "# Review your code from the previous exercise and identify areas where you can apply comprehension to simplify and streamline your code.\n",
    "# Hint: Apply it to initialize inventory, updating the inventory and printing the updated inventory.\n",
    "# For example, in initializing the inventory, we could have:\n",
    "\n",
    "products = [\"t-shirt\", \"mug\", \"hat\", \"book\", \"keychain\"]\n",
    "def initialize_inventory(products):\n",
    "    inventory = {product: int(input(f\"Enter the quantity of {product}s available: \")) for product in products}\n",
    "    return inventory\n",
    "inventory = initialize_inventory(products)\n",
    "inventory"
   ]
  },
  {
   "cell_type": "code",
   "execution_count": 21,
   "id": "a05e5287",
   "metadata": {},
   "outputs": [
    {
     "name": "stdout",
     "output_type": "stream",
     "text": [
      "Enter the number of products in order 3\n",
      "What product do you want to buy?mug\n",
      "What product do you want to buy?hat\n",
      "What product do you want to buy?book\n"
     ]
    },
    {
     "data": {
      "text/plain": [
       "{'book', 'hat', 'mug'}"
      ]
     },
     "execution_count": 21,
     "metadata": {},
     "output_type": "execute_result"
    }
   ],
   "source": [
    "# Modify the function get_customer_orders so it prompts the user to enter the number of customer orders and gathers the product names using a loop and user input. Use comprehension.\n",
    "def get_customer_orders():\n",
    "    num_order = int(input(\"Enter the number of products in order \"))\n",
    "    order = {input(\"What product do you want to buy?\") for i in range (num_order)}\n",
    "    return order\n",
    "get_customer_order = get_customer_orders()\n",
    "get_customer_order"
   ]
  },
  {
   "cell_type": "code",
   "execution_count": 22,
   "id": "f7caba18",
   "metadata": {},
   "outputs": [
    {
     "name": "stdout",
     "output_type": "stream",
     "text": [
      "Enter the quantity of t-shirts available: 9\n",
      "Enter the quantity of mugs available: 9\n",
      "Enter the quantity of hats available: 9\n",
      "Enter the quantity of books available: 9\n",
      "Enter the quantity of keychains available: 9\n"
     ]
    },
    {
     "data": {
      "text/plain": [
       "{'t-shirt': 9, 'mug': 8, 'hat': 8, 'book': 8, 'keychain': 9}"
      ]
     },
     "execution_count": 22,
     "metadata": {},
     "output_type": "execute_result"
    }
   ],
   "source": [
    "def update_inventory(customer_orders, inventory):\n",
    "    update_inventory = {product: inventory[product]-1 if product in customer_orders else inventory[product] for product in inventory}\n",
    "    update_inventory = {product : quantity  for product, quantity in update_inventory.items() if quantity > 0} \n",
    "    return update_inventory\n",
    "\n",
    "\n",
    "my_inventory = initialize_inventory(products)\n",
    "my_customer_order = get_customer_order\n",
    "\n",
    "updated_inventory = update_inventory(my_customer_order,my_inventory)\n",
    "updated_inventory"
   ]
  },
  {
   "cell_type": "code",
   "execution_count": 23,
   "id": "7e589ab6",
   "metadata": {},
   "outputs": [],
   "source": [
    "def calculate_order_statistics(my_customer_orders):\n",
    "    total_products_orders = len(my_customer_order)\n",
    "    percentage_order = total_products_orders/len(products)*100\n",
    "    return [total_products_orders, percentage_order]\n",
    "statistic = calculate_order_statistics(my_customer_order)"
   ]
  },
  {
   "cell_type": "code",
   "execution_count": 25,
   "id": "cb593a07",
   "metadata": {},
   "outputs": [
    {
     "data": {
      "text/plain": [
       "'Total Products Ordered:3. Percentage of Unique Products Ordered:6.666666666666667%'"
      ]
     },
     "execution_count": 25,
     "metadata": {},
     "output_type": "execute_result"
    }
   ],
   "source": [
    "def calculate_order_statistics (my_customer_order, products):\n",
    "    key = len(my_customer_order)\n",
    "    value = (len(my_customer_order))/sum(inventory.values())* 100\n",
    "    return f\"Total Products Ordered: {key}. Percentage of Unique Products Ordered:{value}%\"\n",
    "\n",
    "                                                      \n",
    "calculated_order_statistics = calculate_order_statistics(my_customer_order, products)\n",
    "calculated_order_statistics"
   ]
  },
  {
   "cell_type": "code",
   "execution_count": 28,
   "id": "52d95223",
   "metadata": {},
   "outputs": [
    {
     "name": "stdout",
     "output_type": "stream",
     "text": [
      "What's the price of book? 10\n",
      "What's the price of mug? 20\n",
      "What's the price of hat? 30\n"
     ]
    },
    {
     "data": {
      "text/plain": [
       "'The total price of the order is €60'"
      ]
     },
     "execution_count": 28,
     "metadata": {},
     "output_type": "execute_result"
    }
   ],
   "source": [
    "# Add a new function to calculate the total price of the customer order. \n",
    "# For each product in customer_orders, prompt the user to enter the price of that product. \n",
    "# Use comprehension to calculate the total price. \n",
    "# Note: assume that the user can only have 1 unit of each product.\n",
    "\n",
    "def total_price (my_customer_order):\n",
    "    price = [int(input(f\"What's the price of {product}? \")) for product in my_customer_order]\n",
    "    return f\"The total price of the order is €{sum(price)}\"\n",
    "\n",
    "\n",
    "total_price = total_price (my_customer_order)\n",
    "total_price"
   ]
  },
  {
   "cell_type": "code",
   "execution_count": null,
   "id": "4928c0a6",
   "metadata": {},
   "outputs": [],
   "source": []
  }
 ],
 "metadata": {
  "kernelspec": {
   "display_name": "Python 3 (ipykernel)",
   "language": "python",
   "name": "python3"
  },
  "language_info": {
   "codemirror_mode": {
    "name": "ipython",
    "version": 3
   },
   "file_extension": ".py",
   "mimetype": "text/x-python",
   "name": "python",
   "nbconvert_exporter": "python",
   "pygments_lexer": "ipython3",
   "version": "3.11.7"
  }
 },
 "nbformat": 4,
 "nbformat_minor": 5
}
